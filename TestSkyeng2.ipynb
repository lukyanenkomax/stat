{
 "cells": [
  {
   "cell_type": "markdown",
   "metadata": {},
   "source": [
    "### Imports\n",
    "Import libraries and write settings here."
   ]
  },
  {
   "cell_type": "code",
   "execution_count": 145,
   "metadata": {
    "ExecuteTime": {
     "end_time": "2019-06-28T11:15:50.743069Z",
     "start_time": "2019-06-28T11:15:50.733131Z"
    }
   },
   "outputs": [],
   "source": [
    "# Data manipulation\n",
    "import pandas as pd\n",
    "import numpy as np\n",
    "import scipy\n",
    "\n",
    "# Options for pandas\n",
    "pd.options.display.max_columns = 50\n",
    "pd.options.display.max_rows = 100\n",
    "\n",
    "import seaborn as sns\n",
    "import matplotlib.pyplot as plt\n",
    "import os"
   ]
  },
  {
   "cell_type": "markdown",
   "metadata": {},
   "source": [
    "### Data analysis"
   ]
  },
  {
   "cell_type": "code",
   "execution_count": 134,
   "metadata": {
    "ExecuteTime": {
     "end_time": "2019-06-28T09:09:16.056138Z",
     "start_time": "2019-06-28T09:09:15.951053Z"
    }
   },
   "outputs": [],
   "source": [
    "data = pd.read_csv('../lukya/downloads/test_1_2.csv', sep=';')"
   ]
  },
  {
   "cell_type": "code",
   "execution_count": 135,
   "metadata": {
    "ExecuteTime": {
     "end_time": "2019-06-28T09:12:58.589015Z",
     "start_time": "2019-06-28T09:12:58.570066Z"
    }
   },
   "outputs": [
    {
     "data": {
      "text/html": [
       "<div>\n",
       "<style scoped>\n",
       "    .dataframe tbody tr th:only-of-type {\n",
       "        vertical-align: middle;\n",
       "    }\n",
       "\n",
       "    .dataframe tbody tr th {\n",
       "        vertical-align: top;\n",
       "    }\n",
       "\n",
       "    .dataframe thead th {\n",
       "        text-align: right;\n",
       "    }\n",
       "</style>\n",
       "<table border=\"1\" class=\"dataframe\">\n",
       "  <thead>\n",
       "    <tr style=\"text-align: right;\">\n",
       "      <th></th>\n",
       "      <th>Unnamed: 0</th>\n",
       "      <th>variant</th>\n",
       "      <th>metrics</th>\n",
       "    </tr>\n",
       "  </thead>\n",
       "  <tbody>\n",
       "    <tr>\n",
       "      <th>0</th>\n",
       "      <td>1</td>\n",
       "      <td>A</td>\n",
       "      <td>1</td>\n",
       "    </tr>\n",
       "    <tr>\n",
       "      <th>1</th>\n",
       "      <td>2</td>\n",
       "      <td>B</td>\n",
       "      <td>1</td>\n",
       "    </tr>\n",
       "    <tr>\n",
       "      <th>2</th>\n",
       "      <td>3</td>\n",
       "      <td>A</td>\n",
       "      <td>4</td>\n",
       "    </tr>\n",
       "    <tr>\n",
       "      <th>3</th>\n",
       "      <td>4</td>\n",
       "      <td>B</td>\n",
       "      <td>37</td>\n",
       "    </tr>\n",
       "    <tr>\n",
       "      <th>4</th>\n",
       "      <td>5</td>\n",
       "      <td>B</td>\n",
       "      <td>4</td>\n",
       "    </tr>\n",
       "  </tbody>\n",
       "</table>\n",
       "</div>"
      ],
      "text/plain": [
       "   Unnamed: 0 variant  metrics\n",
       "0           1       A        1\n",
       "1           2       B        1\n",
       "2           3       A        4\n",
       "3           4       B       37\n",
       "4           5       B        4"
      ]
     },
     "execution_count": 135,
     "metadata": {},
     "output_type": "execute_result"
    }
   ],
   "source": [
    "data.head()"
   ]
  },
  {
   "cell_type": "markdown",
   "metadata": {},
   "source": [
    "###Графики распределения данных "
   ]
  },
  {
   "cell_type": "code",
   "execution_count": 142,
   "metadata": {
    "ExecuteTime": {
     "end_time": "2019-06-28T09:18:51.873551Z",
     "start_time": "2019-06-28T09:18:50.902114Z"
    }
   },
   "outputs": [
    {
     "data": {
      "image/png": "[encoded data removed]",
      "text/plain": [
       "<Figure size 432x288 with 1 Axes>"
      ]
     },
     "metadata": {
      "needs_background": "light"
     },
     "output_type": "display_data"
    }
   ],
   "source": [
    "sns.distplot(data.loc[data['variant']=='A', 'metrics']);"
   ]
  },
  {
   "cell_type": "code",
   "execution_count": 143,
   "metadata": {
    "ExecuteTime": {
     "end_time": "2019-06-28T09:18:56.090791Z",
     "start_time": "2019-06-28T09:18:55.170253Z"
    }
   },
   "outputs": [
    {
     "data": {
      "image/png": "[encoded data removed]",
      "text/plain": [
       "<Figure size 432x288 with 1 Axes>"
      ]
     },
     "metadata": {
      "needs_background": "light"
     },
     "output_type": "display_data"
    }
   ],
   "source": [
    "sns.distplot(data.loc[data['variant']=='B', 'metrics']);"
   ]
  },
  {
   "cell_type": "markdown",
   "metadata": {},
   "source": [
    "Распределение ближе всего к логарифмическому"
   ]
  },
  {
   "cell_type": "code",
   "execution_count": 146,
   "metadata": {
    "ExecuteTime": {
     "end_time": "2019-06-28T11:15:54.381855Z",
     "start_time": "2019-06-28T11:15:54.333984Z"
    }
   },
   "outputs": [
    {
     "data": {
      "text/plain": [
       "1      39018\n",
       "2      11577\n",
       "3       6502\n",
       "4       4344\n",
       "5       3150\n",
       "6       2406\n",
       "7       1992\n",
       "8       1581\n",
       "9       1337\n",
       "10      1122\n",
       "11       925\n",
       "12       870\n",
       "13       794\n",
       "14       654\n",
       "15       605\n",
       "16       589\n",
       "17       524\n",
       "18       487\n",
       "19       461\n",
       "20       429\n",
       "21       402\n",
       "22       377\n",
       "23       372\n",
       "24       340\n",
       "26       334\n",
       "25       315\n",
       "29       311\n",
       "28       296\n",
       "27       289\n",
       "31       280\n",
       "30       265\n",
       "32       264\n",
       "33       245\n",
       "34       240\n",
       "35       238\n",
       "36       224\n",
       "41       217\n",
       "37       201\n",
       "38       199\n",
       "40       199\n",
       "44       187\n",
       "39       182\n",
       "42       166\n",
       "43       165\n",
       "46       160\n",
       "45       155\n",
       "49       154\n",
       "47       145\n",
       "50       144\n",
       "48       143\n",
       "       ...  \n",
       "243        1\n",
       "260        1\n",
       "307        1\n",
       "247        1\n",
       "311        1\n",
       "249        1\n",
       "250        1\n",
       "187        1\n",
       "320        1\n",
       "384        1\n",
       "251        1\n",
       "257        1\n",
       "379        1\n",
       "246        1\n",
       "210        1\n",
       "362        1\n",
       "280        1\n",
       "222        1\n",
       "284        1\n",
       "410        1\n",
       "409        1\n",
       "270        1\n",
       "334        1\n",
       "343        1\n",
       "332        1\n",
       "279        1\n",
       "272        1\n",
       "336        1\n",
       "342        1\n",
       "278        1\n",
       "209        1\n",
       "396        1\n",
       "224        1\n",
       "298        1\n",
       "228        1\n",
       "328        1\n",
       "275        1\n",
       "201        1\n",
       "265        1\n",
       "233        1\n",
       "232        1\n",
       "291        1\n",
       "288        1\n",
       "227        1\n",
       "418        1\n",
       "417        1\n",
       "267        1\n",
       "353        1\n",
       "289        1\n",
       "297        1\n",
       "Name: metrics, Length: 275, dtype: int64"
      ]
     },
     "execution_count": 146,
     "metadata": {},
     "output_type": "execute_result"
    }
   ],
   "source": [
    "data.loc[data['variant']=='B', 'metrics'].value_counts()"
   ]
  },
  {
   "cell_type": "code",
   "execution_count": null,
   "metadata": {},
   "outputs": [],
   "source": []
  }
 ],
 "metadata": {
  "kernelspec": {
   "display_name": "Python 3",
   "language": "python",
   "name": "python3"
  },
  "language_info": {
   "codemirror_mode": {
    "name": "ipython",
    "version": 3
   },
   "file_extension": ".py",
   "mimetype": "text/x-python",
   "name": "python",
   "nbconvert_exporter": "python",
   "pygments_lexer": "ipython3",
   "version": "3.7.1"
  }
 },
 "nbformat": 4,
 "nbformat_minor": 2
}
